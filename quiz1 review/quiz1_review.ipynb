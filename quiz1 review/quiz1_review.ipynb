{
 "cells": [
  {
   "cell_type": "code",
   "execution_count": 1,
   "id": "f17491a7",
   "metadata": {},
   "outputs": [],
   "source": [
    "from datascience import *\n",
    "import numpy as np\n",
    "\n",
    "%matplotlib inline\n",
    "import matplotlib.pyplot as plots\n",
    "plots.style.use('fivethirtyeight')"
   ]
  },
  {
   "cell_type": "code",
   "execution_count": 2,
   "id": "2952ffaf",
   "metadata": {},
   "outputs": [
    {
     "data": {
      "text/html": [
       "<table border=\"1\" class=\"dataframe\">\n",
       "    <thead>\n",
       "        <tr>\n",
       "            <th>Votes</th> <th>Rating</th> <th>Title</th> <th>Year</th> <th>Decade</th>\n",
       "        </tr>\n",
       "    </thead>\n",
       "    <tbody>\n",
       "        <tr>\n",
       "            <td>88355 </td> <td>8.4   </td> <td>M                  </td> <td>1931</td> <td>1930  </td>\n",
       "        </tr>\n",
       "        <tr>\n",
       "            <td>132823</td> <td>8.3   </td> <td>Singin' in the Rain</td> <td>1952</td> <td>1950  </td>\n",
       "        </tr>\n",
       "        <tr>\n",
       "            <td>74178 </td> <td>8.3   </td> <td>All About Eve      </td> <td>1950</td> <td>1950  </td>\n",
       "        </tr>\n",
       "        <tr>\n",
       "            <td>635139</td> <td>8.6   </td> <td>Léon               </td> <td>1994</td> <td>1990  </td>\n",
       "        </tr>\n",
       "        <tr>\n",
       "            <td>145514</td> <td>8.2   </td> <td>The Elephant Man   </td> <td>1980</td> <td>1980  </td>\n",
       "        </tr>\n",
       "    </tbody>\n",
       "</table>\n",
       "<p>... (245 rows omitted)</p>"
      ],
      "text/plain": [
       "<IPython.core.display.HTML object>"
      ]
     },
     "metadata": {},
     "output_type": "display_data"
    }
   ],
   "source": [
    "imdb = Table.read_table('imdb.csv')\n",
    "imdb.show(5)"
   ]
  },
  {
   "cell_type": "markdown",
   "id": "5b089e0f",
   "metadata": {},
   "source": [
    "# Question 1\n",
    "Find the ten movies released in the year 2000 or later with the highest number of votes according to imdb.csv. Format your answer as a table with columns Title and Votes (in that order) of the three requested movies."
   ]
  },
  {
   "cell_type": "code",
   "execution_count": 31,
   "id": "424c9498",
   "metadata": {},
   "outputs": [
    {
     "data": {
      "text/plain": [
       "1026253.2"
      ]
     },
     "execution_count": 31,
     "metadata": {},
     "output_type": "execute_result"
    }
   ],
   "source": [
    "ten = imdb.where(\"Year\", are.above_or_equal_to(2000)).select(\"Title\",\"Votes\").sort(\"Votes\",descending = True).take(np.arange(0,10))\n",
    "ten\n",
    "\n",
    "vote = ten.column(\"Votes\")\n",
    "np.average(vote)"
   ]
  },
  {
   "cell_type": "markdown",
   "id": "ce5d30cb",
   "metadata": {},
   "source": [
    "# Question 2\n",
    "\n",
    "Create a table with columns Title and Votes containing all movies released in 1999.\n",
    "\n",
    "Next, attach a new column to the table called Percent Votes that contains the percent of votes each movie received when considered among all votes cast for movies released in 1999.\n",
    "\n",
    "For example, if the total number of votes cast for movies released in 1999 is 200 and \"The Matrix\" received 30 of them, then the column Percent Votes corresponding to \"The Matrix\" should 15."
   ]
  },
  {
   "cell_type": "code",
   "execution_count": 56,
   "id": "e52b9dde",
   "metadata": {},
   "outputs": [
    {
     "data": {
      "text/html": [
       "<table border=\"1\" class=\"dataframe\">\n",
       "    <thead>\n",
       "        <tr>\n",
       "            <th>Title</th> <th>Votes</th> <th>Percent</th>\n",
       "        </tr>\n",
       "    </thead>\n",
       "    <tbody>\n",
       "        <tr>\n",
       "            <td>Fight Club     </td> <td>1177098</td> <td>27.44  </td>\n",
       "        </tr>\n",
       "        <tr>\n",
       "            <td>American Beauty</td> <td>735056 </td> <td>17.14  </td>\n",
       "        </tr>\n",
       "        <tr>\n",
       "            <td>The Sixth Sense</td> <td>630994 </td> <td>14.71  </td>\n",
       "        </tr>\n",
       "        <tr>\n",
       "            <td>The Matrix     </td> <td>1073043</td> <td>25.02  </td>\n",
       "        </tr>\n",
       "        <tr>\n",
       "            <td>The Green Mile </td> <td>672878 </td> <td>15.69  </td>\n",
       "        </tr>\n",
       "    </tbody>\n",
       "</table>"
      ],
      "text/plain": [
       "Title           | Votes   | Percent\n",
       "Fight Club      | 1177098 | 27.44\n",
       "American Beauty | 735056  | 17.14\n",
       "The Sixth Sense | 630994  | 14.71\n",
       "The Matrix      | 1073043 | 25.02\n",
       "The Green Mile  | 672878  | 15.69"
      ]
     },
     "execution_count": 56,
     "metadata": {},
     "output_type": "execute_result"
    }
   ],
   "source": [
    "movies = imdb.where(\"Year\", 1999).select(\"Title\",\"Votes\")\n",
    "\n",
    "votes = movies.column(\"Votes\")\n",
    "\n",
    "percent = np.round(votes/(np.sum(votes)) * 100,2)\n",
    "\n",
    "final = movies.with_columns(\"Percent\",percent)\n",
    "\n",
    "final\n",
    "\n",
    "\n"
   ]
  }
 ],
 "metadata": {
  "kernelspec": {
   "display_name": "Python 3",
   "language": "python",
   "name": "python3"
  },
  "language_info": {
   "codemirror_mode": {
    "name": "ipython",
    "version": 3
   },
   "file_extension": ".py",
   "mimetype": "text/x-python",
   "name": "python",
   "nbconvert_exporter": "python",
   "pygments_lexer": "ipython3",
   "version": "3.12.1"
  }
 },
 "nbformat": 4,
 "nbformat_minor": 5
}
